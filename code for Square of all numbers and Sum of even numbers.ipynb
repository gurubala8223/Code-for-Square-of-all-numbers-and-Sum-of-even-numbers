{
 "cells": [
  {
   "cell_type": "code",
   "execution_count": 11,
   "id": "5b16471f",
   "metadata": {},
   "outputs": [
    {
     "name": "stdout",
     "output_type": "stream",
     "text": [
      "0,1,4,9,16,25,36,49,64,81,100,"
     ]
    }
   ],
   "source": [
    "#Write a python program to find the square of all numbers from 0 to 10\n",
    "#by using \"for\" loop\n",
    "for i in range(11):\n",
    "    print(i*i,end=\",\")"
   ]
  },
  {
   "cell_type": "code",
   "execution_count": 14,
   "id": "090a1f31",
   "metadata": {},
   "outputs": [
    {
     "name": "stdout",
     "output_type": "stream",
     "text": [
      "0,1,4,9,16,25,36,49,64,81,100,"
     ]
    }
   ],
   "source": [
    "#Write a python program to find the sqaure of all numbers from 0 to 10\n",
    "#by using \"while\" loop\n",
    "i=0\n",
    "while i<11:\n",
    "    print(i*i,end=\",\")\n",
    "    i+=1"
   ]
  },
  {
   "cell_type": "code",
   "execution_count": 35,
   "id": "1a34d395",
   "metadata": {},
   "outputs": [
    {
     "name": "stdout",
     "output_type": "stream",
     "text": [
      "Sum od even number 20\n"
     ]
    }
   ],
   "source": [
    "#Write a python program to find the sum of all even numbers from 0 to 10\n",
    "#By using \"for\" loop\n",
    "sum=0\n",
    "for i in range(10):\n",
    "    if (i%2==0):\n",
    "        sum+=i\n",
    "print(\"Sum od even number\",sum)        "
   ]
  },
  {
   "cell_type": "code",
   "execution_count": 32,
   "id": "6dc08108",
   "metadata": {},
   "outputs": [
    {
     "name": "stdout",
     "output_type": "stream",
     "text": [
      "Sum of Even Number 20\n"
     ]
    }
   ],
   "source": [
    "#Write a python program to find the sum of all even numbers from 0 to 10\n",
    "#By using \"While\" loop\n",
    "x=10\n",
    "i=1\n",
    "sum=0\n",
    "while (i<x):\n",
    "    if i%2==0:\n",
    "        sum+=i\n",
    "    i+=1\n",
    "print(\"Sum of Even Number\",sum) "
   ]
  }
 ],
 "metadata": {
  "kernelspec": {
   "display_name": "Python 3",
   "language": "python",
   "name": "python3"
  },
  "language_info": {
   "codemirror_mode": {
    "name": "ipython",
    "version": 3
   },
   "file_extension": ".py",
   "mimetype": "text/x-python",
   "name": "python",
   "nbconvert_exporter": "python",
   "pygments_lexer": "ipython3",
   "version": "3.8.8"
  }
 },
 "nbformat": 4,
 "nbformat_minor": 5
}
